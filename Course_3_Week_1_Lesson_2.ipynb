{
  "nbformat": 4,
  "nbformat_minor": 0,
  "metadata": {
    "colab": {
      "name": "Course 3 - Week 1 - Lesson 2.ipynb",
      "provenance": [],
      "collapsed_sections": [],
      "toc_visible": true,
      "include_colab_link": true
    },
    "kernelspec": {
      "display_name": "Python 3",
      "name": "python3"
    }
  },
  "cells": [
    {
      "cell_type": "markdown",
      "metadata": {
        "id": "view-in-github",
        "colab_type": "text"
      },
      "source": [
        "<a href=\"https://colab.research.google.com/github/AndreaCastiella/Natural-Language-Processing-in-Tensorflow/blob/main/Course_3_Week_1_Lesson_2.ipynb\" target=\"_parent\"><img src=\"https://colab.research.google.com/assets/colab-badge.svg\" alt=\"Open In Colab\"/></a>"
      ]
    },
    {
      "cell_type": "code",
      "metadata": {
        "id": "ArOPfBwyZtln",
        "colab": {
          "base_uri": "https://localhost:8080/"
        },
        "outputId": "808afce8-8f6c-44cf-ced3-f2da0ef37356"
      },
      "source": [
        "import tensorflow as tf\n",
        "from tensorflow import keras\n",
        "\n",
        "from tensorflow.keras.preprocessing.text import Tokenizer\n",
        "from tensorflow.keras.preprocessing.sequence import pad_sequences\n",
        "\n",
        "sentences = [\n",
        "  'I love my sheep',\n",
        "  'I love my cat',\n",
        "  'You love your sheep!',\n",
        "  'Do you think my sheep is amazing?'  \n",
        "]\n",
        "\n",
        "tokenizer = Tokenizer(num_words=50, oov_token = \"<OOV>\")\n",
        "tokenizer.fit_on_texts(sentences)\n",
        "word_index = tokenizer.word_index\n",
        "\n",
        "sequences = tokenizer.texts_to_sequences(sentences)\n",
        "\n",
        "padded = pad_sequences(sequences, maxlen=5)\n",
        "print(\"\\nWord Index = \" , word_index)\n",
        "print(\"\\nSequences = \" , sequences)\n",
        "print(\"\\nPadded Sequences:\", padded)\n",
        "\n",
        "test_data = [\n",
        "  'I really love my sheep',\n",
        "  'My sheep loves to eat'\n",
        "]\n",
        "\n",
        "test_seq = tokenizer.texts_to_sequences(test_data)\n",
        "print(\"\\nTest Sequence = \", test_seq)\n",
        "\n",
        "padded = pad_sequences(test_seq, maxlen=10)\n",
        "print(\"\\nPadded Test Sequence: \", padded)"
      ],
      "execution_count": 4,
      "outputs": [
        {
          "output_type": "stream",
          "text": [
            "\n",
            "Word Index =  {'<OOV>': 1, 'love': 2, 'my': 3, 'sheep': 4, 'i': 5, 'you': 6, 'cat': 7, 'your': 8, 'do': 9, 'think': 10, 'is': 11, 'amazing': 12}\n",
            "\n",
            "Sequences =  [[5, 2, 3, 4], [5, 2, 3, 7], [6, 2, 8, 4], [9, 6, 10, 3, 4, 11, 12]]\n",
            "\n",
            "Padded Sequences: [[ 0  5  2  3  4]\n",
            " [ 0  5  2  3  7]\n",
            " [ 0  6  2  8  4]\n",
            " [10  3  4 11 12]]\n",
            "\n",
            "Test Sequence =  [[5, 1, 2, 3, 4], [3, 4, 1, 1, 1]]\n",
            "\n",
            "Padded Test Sequence:  [[0 0 0 0 0 5 1 2 3 4]\n",
            " [0 0 0 0 0 3 4 1 1 1]]\n"
          ],
          "name": "stdout"
        }
      ]
    }
  ]
}