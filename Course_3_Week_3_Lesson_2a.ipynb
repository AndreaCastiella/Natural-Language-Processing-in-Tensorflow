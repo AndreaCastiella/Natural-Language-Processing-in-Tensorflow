{
  "nbformat": 4,
  "nbformat_minor": 0,
  "metadata": {
    "colab": {
      "name": "Course 3 - Week 3 - Lesson 2a.ipynb",
      "provenance": [],
      "collapsed_sections": [],
      "authorship_tag": "ABX9TyOaquIM6vjBpXJUdmknxFhN",
      "include_colab_link": true
    },
    "kernelspec": {
      "name": "python3",
      "display_name": "Python 3"
    },
    "language_info": {
      "name": "python"
    }
  },
  "cells": [
    {
      "cell_type": "markdown",
      "metadata": {
        "id": "view-in-github",
        "colab_type": "text"
      },
      "source": [
        "<a href=\"https://colab.research.google.com/github/AndreaCastiella/Natural-Language-Processing-in-Tensorflow/blob/main/Course_3_Week_3_Lesson_2a.ipynb\" target=\"_parent\"><img src=\"https://colab.research.google.com/assets/colab-badge.svg\" alt=\"Open In Colab\"/></a>"
      ]
    },
    {
      "cell_type": "code",
      "metadata": {
        "colab": {
          "base_uri": "https://localhost:8080/"
        },
        "id": "9okztbTW9GuA",
        "outputId": "d6a845b9-a5ad-45cd-9e03-d502dceb390e"
      },
      "source": [
        "import numpy as np\n",
        "\n",
        "import json\n",
        "import tensorflow as tf\n",
        "\n",
        "from tensorflow.keras.preprocessing.text import Tokenizer\n",
        "from tensorflow.keras.preprocessing.sequence import pad_sequences\n",
        "\n",
        "!wget --no-check-certificate \\\n",
        "    https://storage.googleapis.com/laurencemoroney-blog.appspot.com/sarcasm.json \\\n",
        "    -O /tmp/sarcasm.json\n",
        "\n",
        "vocab_size = 1000\n",
        "embedding_dim = 16\n",
        "max_length = 120\n",
        "trunc_type='post'\n",
        "padding_type='post'\n",
        "oov_tok = \"<OOV>\"\n",
        "training_size = 20000\n",
        "\n",
        "\n",
        "with open(\"/tmp/sarcasm.json\", 'r') as f:\n",
        "    datastore = json.load(f)\n",
        "\n",
        "\n",
        "sentences = []\n",
        "labels = []\n",
        "urls = []\n",
        "for item in datastore:\n",
        "    sentences.append(item['headline'])\n",
        "    labels.append(item['is_sarcastic'])\n",
        "\n",
        "training_sentences = sentences[0:training_size]\n",
        "testing_sentences = sentences[training_size:]\n",
        "training_labels = labels[0:training_size]\n",
        "testing_labels = labels[training_size:]\n",
        "\n",
        "tokenizer = Tokenizer(num_words=vocab_size, oov_token=oov_tok)\n",
        "tokenizer.fit_on_texts(training_sentences)\n",
        "\n",
        "word_index = tokenizer.word_index\n",
        "\n",
        "training_sequences = tokenizer.texts_to_sequences(training_sentences)\n",
        "training_padded = pad_sequences(training_sequences, maxlen=max_length, padding=padding_type, truncating=trunc_type)\n",
        "\n",
        "testing_sequences = tokenizer.texts_to_sequences(testing_sentences)\n",
        "testing_padded = pad_sequences(testing_sequences, maxlen=max_length, padding=padding_type, truncating=trunc_type)\n",
        "\n",
        "model = tf.keras.Sequential([\n",
        "    tf.keras.layers.Embedding(vocab_size, embedding_dim, input_length=max_length),\n",
        "    tf.keras.layers.Bidirectional(tf.keras.layers.LSTM(32)),\n",
        "    tf.keras.layers.Dense(24, activation='relu'),\n",
        "    tf.keras.layers.Dense(1, activation='sigmoid')\n",
        "])\n",
        "model.compile(loss='binary_crossentropy',optimizer='adam',metrics=['accuracy'])\n",
        "model.summary()\n",
        "\n",
        "num_epochs = 50\n",
        "training_padded = np.array(training_padded)\n",
        "training_labels = np.array(training_labels)\n",
        "testing_padded = np.array(testing_padded)\n",
        "testing_labels = np.array(testing_labels)\n",
        "history = model.fit(training_padded, training_labels, epochs=num_epochs, validation_data=(testing_padded, testing_labels), verbose=1)"
      ],
      "execution_count": null,
      "outputs": [
        {
          "output_type": "stream",
          "text": [
            "--2021-04-29 18:48:07--  https://storage.googleapis.com/laurencemoroney-blog.appspot.com/sarcasm.json\n",
            "Resolving storage.googleapis.com (storage.googleapis.com)... 172.253.63.128, 142.250.31.128, 142.250.81.208, ...\n",
            "Connecting to storage.googleapis.com (storage.googleapis.com)|172.253.63.128|:443... connected.\n",
            "HTTP request sent, awaiting response... 200 OK\n",
            "Length: 5643545 (5.4M) [application/json]\n",
            "Saving to: ‘/tmp/sarcasm.json’\n",
            "\n",
            "/tmp/sarcasm.json   100%[===================>]   5.38M  --.-KB/s    in 0.05s   \n",
            "\n",
            "2021-04-29 18:48:07 (107 MB/s) - ‘/tmp/sarcasm.json’ saved [5643545/5643545]\n",
            "\n",
            "Model: \"sequential\"\n",
            "_________________________________________________________________\n",
            "Layer (type)                 Output Shape              Param #   \n",
            "=================================================================\n",
            "embedding (Embedding)        (None, 120, 16)           16000     \n",
            "_________________________________________________________________\n",
            "bidirectional (Bidirectional (None, 64)                12544     \n",
            "_________________________________________________________________\n",
            "dense (Dense)                (None, 24)                1560      \n",
            "_________________________________________________________________\n",
            "dense_1 (Dense)              (None, 1)                 25        \n",
            "=================================================================\n",
            "Total params: 30,129\n",
            "Trainable params: 30,129\n",
            "Non-trainable params: 0\n",
            "_________________________________________________________________\n",
            "Epoch 1/50\n",
            "625/625 [==============================] - 37s 54ms/step - loss: 0.5447 - accuracy: 0.7044 - val_loss: 0.3900 - val_accuracy: 0.8189\n",
            "Epoch 2/50\n",
            "625/625 [==============================] - 34s 54ms/step - loss: 0.3543 - accuracy: 0.8365 - val_loss: 0.3835 - val_accuracy: 0.8226\n",
            "Epoch 3/50\n",
            "625/625 [==============================] - 33s 53ms/step - loss: 0.3200 - accuracy: 0.8550 - val_loss: 0.3747 - val_accuracy: 0.8255\n",
            "Epoch 4/50\n",
            "625/625 [==============================] - 34s 54ms/step - loss: 0.3054 - accuracy: 0.8667 - val_loss: 0.3715 - val_accuracy: 0.8357\n",
            "Epoch 5/50\n",
            "625/625 [==============================] - 34s 54ms/step - loss: 0.2951 - accuracy: 0.8725 - val_loss: 0.3714 - val_accuracy: 0.8338\n",
            "Epoch 6/50\n",
            "625/625 [==============================] - 34s 54ms/step - loss: 0.2882 - accuracy: 0.8753 - val_loss: 0.3779 - val_accuracy: 0.8316\n",
            "Epoch 7/50\n",
            "625/625 [==============================] - 33s 53ms/step - loss: 0.2746 - accuracy: 0.8807 - val_loss: 0.3829 - val_accuracy: 0.8313\n",
            "Epoch 8/50\n",
            "625/625 [==============================] - 33s 53ms/step - loss: 0.2688 - accuracy: 0.8838 - val_loss: 0.3967 - val_accuracy: 0.8295\n",
            "Epoch 9/50\n",
            "625/625 [==============================] - 33s 53ms/step - loss: 0.2564 - accuracy: 0.8887 - val_loss: 0.3840 - val_accuracy: 0.8290\n",
            "Epoch 10/50\n",
            "625/625 [==============================] - 33s 53ms/step - loss: 0.2579 - accuracy: 0.8892 - val_loss: 0.3984 - val_accuracy: 0.8284\n",
            "Epoch 11/50\n",
            "625/625 [==============================] - 33s 53ms/step - loss: 0.2408 - accuracy: 0.8963 - val_loss: 0.3964 - val_accuracy: 0.8283\n",
            "Epoch 12/50\n",
            "625/625 [==============================] - 33s 53ms/step - loss: 0.2387 - accuracy: 0.8997 - val_loss: 0.4359 - val_accuracy: 0.8159\n",
            "Epoch 13/50\n",
            "625/625 [==============================] - 33s 53ms/step - loss: 0.2236 - accuracy: 0.9052 - val_loss: 0.4278 - val_accuracy: 0.8226\n",
            "Epoch 14/50\n",
            "625/625 [==============================] - 33s 53ms/step - loss: 0.2143 - accuracy: 0.9092 - val_loss: 0.4465 - val_accuracy: 0.8207\n",
            "Epoch 15/50\n",
            "625/625 [==============================] - 33s 53ms/step - loss: 0.2144 - accuracy: 0.9103 - val_loss: 0.4443 - val_accuracy: 0.8249\n",
            "Epoch 16/50\n",
            "625/625 [==============================] - 33s 53ms/step - loss: 0.2051 - accuracy: 0.9154 - val_loss: 0.4679 - val_accuracy: 0.8213\n",
            "Epoch 17/50\n",
            "625/625 [==============================] - 33s 53ms/step - loss: 0.1999 - accuracy: 0.9206 - val_loss: 0.4897 - val_accuracy: 0.8168\n",
            "Epoch 18/50\n",
            "625/625 [==============================] - 33s 53ms/step - loss: 0.1954 - accuracy: 0.9204 - val_loss: 0.5078 - val_accuracy: 0.8158\n",
            "Epoch 19/50\n",
            "625/625 [==============================] - 33s 53ms/step - loss: 0.1836 - accuracy: 0.9268 - val_loss: 0.5318 - val_accuracy: 0.8179\n",
            "Epoch 20/50\n",
            "625/625 [==============================] - 33s 53ms/step - loss: 0.1768 - accuracy: 0.9275 - val_loss: 0.5693 - val_accuracy: 0.8144\n",
            "Epoch 21/50\n",
            "625/625 [==============================] - 33s 53ms/step - loss: 0.1730 - accuracy: 0.9312 - val_loss: 0.5913 - val_accuracy: 0.8080\n",
            "Epoch 22/50\n",
            "625/625 [==============================] - 33s 53ms/step - loss: 0.1688 - accuracy: 0.9311 - val_loss: 0.6159 - val_accuracy: 0.8104\n",
            "Epoch 23/50\n",
            "625/625 [==============================] - 33s 53ms/step - loss: 0.1525 - accuracy: 0.9379 - val_loss: 0.6178 - val_accuracy: 0.8030\n",
            "Epoch 24/50\n",
            "625/625 [==============================] - 34s 54ms/step - loss: 0.1560 - accuracy: 0.9386 - val_loss: 0.6594 - val_accuracy: 0.8061\n",
            "Epoch 25/50\n",
            "625/625 [==============================] - 34s 54ms/step - loss: 0.1499 - accuracy: 0.9409 - val_loss: 0.7481 - val_accuracy: 0.8103\n",
            "Epoch 26/50\n",
            "625/625 [==============================] - 34s 54ms/step - loss: 0.1443 - accuracy: 0.9438 - val_loss: 0.6747 - val_accuracy: 0.8056\n",
            "Epoch 27/50\n",
            "625/625 [==============================] - 34s 54ms/step - loss: 0.1364 - accuracy: 0.9474 - val_loss: 0.7130 - val_accuracy: 0.8035\n",
            "Epoch 28/50\n",
            "625/625 [==============================] - 33s 53ms/step - loss: 0.1263 - accuracy: 0.9499 - val_loss: 0.7778 - val_accuracy: 0.8041\n",
            "Epoch 29/50\n",
            "625/625 [==============================] - 34s 54ms/step - loss: 0.1274 - accuracy: 0.9475 - val_loss: 0.8836 - val_accuracy: 0.8044\n",
            "Epoch 30/50\n",
            "625/625 [==============================] - 34s 54ms/step - loss: 0.1240 - accuracy: 0.9511 - val_loss: 0.9476 - val_accuracy: 0.8018\n",
            "Epoch 31/50\n",
            "625/625 [==============================] - 34s 54ms/step - loss: 0.1095 - accuracy: 0.9571 - val_loss: 0.8982 - val_accuracy: 0.8022\n",
            "Epoch 32/50\n",
            "625/625 [==============================] - 33s 53ms/step - loss: 0.1038 - accuracy: 0.9603 - val_loss: 1.0034 - val_accuracy: 0.7986\n",
            "Epoch 33/50\n",
            "625/625 [==============================] - 33s 54ms/step - loss: 0.1010 - accuracy: 0.9599 - val_loss: 1.0144 - val_accuracy: 0.8034\n",
            "Epoch 34/50\n",
            "625/625 [==============================] - 33s 54ms/step - loss: 0.0969 - accuracy: 0.9612 - val_loss: 1.0648 - val_accuracy: 0.7955\n",
            "Epoch 35/50\n",
            "625/625 [==============================] - 33s 53ms/step - loss: 0.0901 - accuracy: 0.9650 - val_loss: 1.0940 - val_accuracy: 0.8006\n",
            "Epoch 36/50\n",
            "625/625 [==============================] - 33s 53ms/step - loss: 0.0947 - accuracy: 0.9597 - val_loss: 1.1005 - val_accuracy: 0.8024\n",
            "Epoch 37/50\n",
            "625/625 [==============================] - 33s 52ms/step - loss: 0.0810 - accuracy: 0.9679 - val_loss: 1.1424 - val_accuracy: 0.7976\n",
            "Epoch 38/50\n",
            "625/625 [==============================] - 33s 53ms/step - loss: 0.0790 - accuracy: 0.9688 - val_loss: 1.1835 - val_accuracy: 0.7992\n",
            "Epoch 39/50\n",
            "625/625 [==============================] - 33s 53ms/step - loss: 0.0789 - accuracy: 0.9693 - val_loss: 1.3070 - val_accuracy: 0.7989\n",
            "Epoch 40/50\n",
            "625/625 [==============================] - 33s 52ms/step - loss: 0.0780 - accuracy: 0.9687 - val_loss: 1.2682 - val_accuracy: 0.7933\n",
            "Epoch 41/50\n",
            "625/625 [==============================] - 33s 53ms/step - loss: 0.0757 - accuracy: 0.9694 - val_loss: 1.3560 - val_accuracy: 0.7866\n",
            "Epoch 42/50\n",
            "625/625 [==============================] - 33s 53ms/step - loss: 0.0768 - accuracy: 0.9693 - val_loss: 1.4281 - val_accuracy: 0.7942\n",
            "Epoch 43/50\n",
            "625/625 [==============================] - 33s 52ms/step - loss: 0.0749 - accuracy: 0.9705 - val_loss: 1.5191 - val_accuracy: 0.7964\n",
            "Epoch 44/50\n",
            "625/625 [==============================] - 33s 52ms/step - loss: 0.0664 - accuracy: 0.9723 - val_loss: 1.4776 - val_accuracy: 0.7940\n",
            "Epoch 45/50\n",
            "625/625 [==============================] - 33s 53ms/step - loss: 0.0641 - accuracy: 0.9726 - val_loss: 1.6612 - val_accuracy: 0.7939\n",
            "Epoch 46/50\n",
            "625/625 [==============================] - 33s 54ms/step - loss: 0.0638 - accuracy: 0.9738 - val_loss: 1.4915 - val_accuracy: 0.7888\n",
            "Epoch 47/50\n",
            "625/625 [==============================] - 33s 53ms/step - loss: 0.0676 - accuracy: 0.9723 - val_loss: 1.5844 - val_accuracy: 0.7971\n",
            "Epoch 48/50\n",
            "625/625 [==============================] - 33s 53ms/step - loss: 0.0555 - accuracy: 0.9772 - val_loss: 1.6418 - val_accuracy: 0.7912\n",
            "Epoch 49/50\n",
            "625/625 [==============================] - 33s 53ms/step - loss: 0.0613 - accuracy: 0.9737 - val_loss: 1.5932 - val_accuracy: 0.7936\n",
            "Epoch 50/50\n",
            "625/625 [==============================] - 32s 52ms/step - loss: 0.0606 - accuracy: 0.9747 - val_loss: 1.6487 - val_accuracy: 0.7927\n"
          ],
          "name": "stdout"
        }
      ]
    },
    {
      "cell_type": "code",
      "metadata": {
        "colab": {
          "base_uri": "https://localhost:8080/",
          "height": 541
        },
        "id": "9bLki2qg9Zic",
        "outputId": "cf6d1bf5-baa6-4899-a78b-e741d973bc20"
      },
      "source": [
        "import matplotlib.pyplot as plt\n",
        "\n",
        "\n",
        "def plot_graphs(history, string):\n",
        "  plt.plot(history.history[string])\n",
        "  plt.plot(history.history['val_'+string])\n",
        "  plt.xlabel(\"Epochs\")\n",
        "  plt.ylabel(string)\n",
        "  plt.legend([string, 'val_'+string])\n",
        "  plt.show()\n",
        "\n",
        "plot_graphs(history, 'accuracy')\n",
        "plot_graphs(history, 'loss')"
      ],
      "execution_count": null,
      "outputs": [
        {
          "output_type": "display_data",
          "data": {
            "image/png": "[encoded data removed]",
            "text/plain": [
              "<Figure size 432x288 with 1 Axes>"
            ]
          },
          "metadata": {
            "tags": [],
            "needs_background": "light"
          }
        },
        {
          "output_type": "display_data",
          "data": {
            "image/png": "[encoded data removed]",
            "text/plain": [
              "<Figure size 432x288 with 1 Axes>"
            ]
          },
          "metadata": {
            "tags": [],
            "needs_background": "light"
          }
        }
      ]
    }
  ]
}