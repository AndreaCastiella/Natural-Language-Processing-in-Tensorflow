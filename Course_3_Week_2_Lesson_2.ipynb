{
  "nbformat": 4,
  "nbformat_minor": 0,
  "metadata": {
    "accelerator": "GPU",
    "colab": {
      "name": "Course 3 - Week 2 - Lesson 2.ipynb",
      "provenance": [],
      "collapsed_sections": [],
      "toc_visible": true,
      "include_colab_link": true
    },
    "kernelspec": {
      "display_name": "Python 3",
      "name": "python3"
    }
  },
  "cells": [
    {
      "cell_type": "markdown",
      "metadata": {
        "id": "view-in-github",
        "colab_type": "text"
      },
      "source": [
        "<a href=\"https://colab.research.google.com/github/AndreaCastiella/Natural-Language-Processing-in-Tensorflow/blob/main/Course_3_Week_2_Lesson_2.ipynb\" target=\"_parent\"><img src=\"https://colab.research.google.com/assets/colab-badge.svg\" alt=\"Open In Colab\"/></a>"
      ]
    },
    {
      "cell_type": "code",
      "metadata": {
        "id": "4gs9htvM7n_x"
      },
      "source": [
        "# Run this to ensure TensorFlow 2.x is used\n",
        "try:\n",
        "  # %tensorflow_version only exists in Colab.\n",
        "  %tensorflow_version 2.x\n",
        "except Exception:\n",
        "  pass"
      ],
      "execution_count": 1,
      "outputs": []
    },
    {
      "cell_type": "code",
      "metadata": {
        "id": "XYYDvoskkE61"
      },
      "source": [
        "import json\n",
        "import tensorflow as tf\n",
        "\n",
        "from tensorflow.keras.preprocessing.text import Tokenizer\n",
        "from tensorflow.keras.preprocessing.sequence import pad_sequences"
      ],
      "execution_count": 2,
      "outputs": []
    },
    {
      "cell_type": "code",
      "metadata": {
        "id": "0eJSTTYnkJQd"
      },
      "source": [
        "vocab_size = 10000\n",
        "embedding_dim = 32\n",
        "max_length = 250\n",
        "trunc_type='post'\n",
        "padding_type='post'\n",
        "oov_tok = \"<OOV>\"\n",
        "training_size = 20000\n"
      ],
      "execution_count": 26,
      "outputs": []
    },
    {
      "cell_type": "code",
      "metadata": {
        "id": "BQVuQrZNkPn9",
        "colab": {
          "base_uri": "https://localhost:8080/"
        },
        "outputId": "f26fdc5c-8172-4665-d12b-01738bfb137f"
      },
      "source": [
        "!wget --no-check-certificate \\\n",
        "    https://storage.googleapis.com/laurencemoroney-blog.appspot.com/sarcasm.json \\\n",
        "    -O /tmp/sarcasm.json\n"
      ],
      "execution_count": 4,
      "outputs": [
        {
          "output_type": "stream",
          "text": [
            "--2021-04-28 15:57:09--  https://storage.googleapis.com/laurencemoroney-blog.appspot.com/sarcasm.json\n",
            "Resolving storage.googleapis.com (storage.googleapis.com)... 74.125.20.128, 74.125.142.128, 74.125.195.128, ...\n",
            "Connecting to storage.googleapis.com (storage.googleapis.com)|74.125.20.128|:443... connected.\n",
            "HTTP request sent, awaiting response... 200 OK\n",
            "Length: 5643545 (5.4M) [application/json]\n",
            "Saving to: ‘/tmp/sarcasm.json’\n",
            "\n",
            "\r/tmp/sarcasm.json     0%[                    ]       0  --.-KB/s               \r/tmp/sarcasm.json   100%[===================>]   5.38M  --.-KB/s    in 0.05s   \n",
            "\n",
            "2021-04-28 15:57:09 (107 MB/s) - ‘/tmp/sarcasm.json’ saved [5643545/5643545]\n",
            "\n"
          ],
          "name": "stdout"
        }
      ]
    },
    {
      "cell_type": "code",
      "metadata": {
        "id": "oaLaaqhNkUPd"
      },
      "source": [
        "with open(\"/tmp/sarcasm.json\", 'r') as f:\n",
        "    datastore = json.load(f)\n",
        "\n",
        "sentences = []\n",
        "labels = []\n",
        "\n",
        "for item in datastore:\n",
        "    sentences.append(item['headline'])\n",
        "    labels.append(item['is_sarcastic'])"
      ],
      "execution_count": 5,
      "outputs": []
    },
    {
      "cell_type": "code",
      "metadata": {
        "id": "S1sD-7v0kYWk"
      },
      "source": [
        "training_sentences = sentences[0:training_size]\n",
        "testing_sentences = sentences[training_size:]\n",
        "training_labels = labels[0:training_size]\n",
        "testing_labels = labels[training_size:]"
      ],
      "execution_count": 6,
      "outputs": []
    },
    {
      "cell_type": "code",
      "metadata": {
        "id": "3u8UB0MCkZ5N"
      },
      "source": [
        "tokenizer = Tokenizer(num_words=vocab_size, oov_token=oov_tok)\n",
        "tokenizer.fit_on_texts(training_sentences)\n",
        "\n",
        "word_index = tokenizer.word_index\n",
        "\n",
        "training_sequences = tokenizer.texts_to_sequences(training_sentences)\n",
        "training_padded = pad_sequences(training_sequences, maxlen=max_length, padding=padding_type, truncating=trunc_type)\n",
        "\n",
        "testing_sequences = tokenizer.texts_to_sequences(testing_sentences)\n",
        "testing_padded = pad_sequences(testing_sequences, maxlen=max_length, padding=padding_type, truncating=trunc_type)"
      ],
      "execution_count": 7,
      "outputs": []
    },
    {
      "cell_type": "code",
      "metadata": {
        "id": "GrAlWBKf99Ya"
      },
      "source": [
        "# Need this block to get it to work with TensorFlow 2.x\n",
        "import numpy as np\n",
        "training_padded = np.array(training_padded)\n",
        "training_labels = np.array(training_labels)\n",
        "testing_padded = np.array(testing_padded)\n",
        "testing_labels = np.array(testing_labels)"
      ],
      "execution_count": 8,
      "outputs": []
    },
    {
      "cell_type": "code",
      "metadata": {
        "id": "FufaT4vlkiDE"
      },
      "source": [
        "model = tf.keras.Sequential([\n",
        "    tf.keras.layers.Embedding(vocab_size, embedding_dim, input_length=max_length),\n",
        "    tf.keras.layers.GlobalAveragePooling1D(),\n",
        "    tf.keras.layers.Dense(24, activation='relu'),\n",
        "    tf.keras.layers.Dense(1, activation='sigmoid')\n",
        "])\n",
        "model.compile(loss='binary_crossentropy',optimizer='adam',metrics=['accuracy'])"
      ],
      "execution_count": 9,
      "outputs": []
    },
    {
      "cell_type": "code",
      "metadata": {
        "id": "XfDt1hmYkiys",
        "colab": {
          "base_uri": "https://localhost:8080/"
        },
        "outputId": "05dddb27-7c44-424b-ac84-0c07db94aae6"
      },
      "source": [
        "model.summary()\n"
      ],
      "execution_count": 27,
      "outputs": [
        {
          "output_type": "stream",
          "text": [
            "Model: \"sequential\"\n",
            "_________________________________________________________________\n",
            "Layer (type)                 Output Shape              Param #   \n",
            "=================================================================\n",
            "embedding (Embedding)        (None, 100, 16)           160000    \n",
            "_________________________________________________________________\n",
            "global_average_pooling1d (Gl (None, 16)                0         \n",
            "_________________________________________________________________\n",
            "dense (Dense)                (None, 24)                408       \n",
            "_________________________________________________________________\n",
            "dense_1 (Dense)              (None, 1)                 25        \n",
            "=================================================================\n",
            "Total params: 160,433\n",
            "Trainable params: 160,433\n",
            "Non-trainable params: 0\n",
            "_________________________________________________________________\n"
          ],
          "name": "stdout"
        }
      ]
    },
    {
      "cell_type": "code",
      "metadata": {
        "id": "2DTKQFf1kkyc",
        "colab": {
          "base_uri": "https://localhost:8080/"
        },
        "outputId": "5e6de5bc-6625-4d3d-dada-1911c7a84c79"
      },
      "source": [
        "num_epochs = 30\n",
        "history = model.fit(training_padded, training_labels, epochs=num_epochs, validation_data=(testing_padded, testing_labels), verbose=2)"
      ],
      "execution_count": 28,
      "outputs": [
        {
          "output_type": "stream",
          "text": [
            "Epoch 1/30\n",
            "625/625 - 2s - loss: 0.0033 - accuracy: 0.9991 - val_loss: 3.2337 - val_accuracy: 0.7961\n",
            "Epoch 2/30\n",
            "625/625 - 2s - loss: 0.0023 - accuracy: 0.9991 - val_loss: 3.3133 - val_accuracy: 0.7933\n",
            "Epoch 3/30\n",
            "625/625 - 2s - loss: 0.0033 - accuracy: 0.9988 - val_loss: 3.2198 - val_accuracy: 0.7928\n",
            "Epoch 4/30\n",
            "625/625 - 2s - loss: 0.0023 - accuracy: 0.9992 - val_loss: 3.4935 - val_accuracy: 0.7962\n",
            "Epoch 5/30\n",
            "625/625 - 2s - loss: 0.0038 - accuracy: 0.9990 - val_loss: 3.2488 - val_accuracy: 0.7936\n",
            "Epoch 6/30\n",
            "625/625 - 2s - loss: 0.0042 - accuracy: 0.9987 - val_loss: 3.2322 - val_accuracy: 0.7946\n",
            "Epoch 7/30\n",
            "625/625 - 2s - loss: 0.0020 - accuracy: 0.9995 - val_loss: 3.3337 - val_accuracy: 0.7962\n",
            "Epoch 8/30\n",
            "625/625 - 2s - loss: 0.0026 - accuracy: 0.9990 - val_loss: 3.1991 - val_accuracy: 0.7924\n",
            "Epoch 9/30\n",
            "625/625 - 2s - loss: 0.0018 - accuracy: 0.9995 - val_loss: 3.3402 - val_accuracy: 0.7959\n",
            "Epoch 10/30\n",
            "625/625 - 2s - loss: 0.0019 - accuracy: 0.9993 - val_loss: 3.2132 - val_accuracy: 0.7894\n",
            "Epoch 11/30\n",
            "625/625 - 2s - loss: 0.0041 - accuracy: 0.9984 - val_loss: 3.2574 - val_accuracy: 0.7928\n",
            "Epoch 12/30\n",
            "625/625 - 2s - loss: 0.0031 - accuracy: 0.9988 - val_loss: 3.2645 - val_accuracy: 0.7927\n",
            "Epoch 13/30\n",
            "625/625 - 2s - loss: 0.0036 - accuracy: 0.9986 - val_loss: 3.2813 - val_accuracy: 0.7953\n",
            "Epoch 14/30\n",
            "625/625 - 2s - loss: 0.0028 - accuracy: 0.9991 - val_loss: 3.3533 - val_accuracy: 0.7940\n",
            "Epoch 15/30\n",
            "625/625 - 2s - loss: 0.0022 - accuracy: 0.9993 - val_loss: 3.3188 - val_accuracy: 0.7930\n",
            "Epoch 16/30\n",
            "625/625 - 2s - loss: 0.0037 - accuracy: 0.9987 - val_loss: 3.7243 - val_accuracy: 0.7955\n",
            "Epoch 17/30\n",
            "625/625 - 2s - loss: 0.0016 - accuracy: 0.9995 - val_loss: 3.3216 - val_accuracy: 0.7940\n",
            "Epoch 18/30\n",
            "625/625 - 2s - loss: 0.0033 - accuracy: 0.9989 - val_loss: 3.3785 - val_accuracy: 0.7943\n",
            "Epoch 19/30\n",
            "625/625 - 2s - loss: 0.0025 - accuracy: 0.9991 - val_loss: 3.6005 - val_accuracy: 0.7958\n",
            "Epoch 20/30\n",
            "625/625 - 2s - loss: 0.0042 - accuracy: 0.9984 - val_loss: 3.3591 - val_accuracy: 0.7942\n",
            "Epoch 21/30\n",
            "625/625 - 2s - loss: 0.0021 - accuracy: 0.9992 - val_loss: 3.3363 - val_accuracy: 0.7894\n",
            "Epoch 22/30\n",
            "625/625 - 2s - loss: 0.0025 - accuracy: 0.9994 - val_loss: 3.2920 - val_accuracy: 0.7901\n",
            "Epoch 23/30\n",
            "625/625 - 2s - loss: 0.0015 - accuracy: 0.9996 - val_loss: 3.3654 - val_accuracy: 0.7915\n",
            "Epoch 24/30\n",
            "625/625 - 2s - loss: 0.0044 - accuracy: 0.9984 - val_loss: 3.3331 - val_accuracy: 0.7922\n",
            "Epoch 25/30\n",
            "625/625 - 2s - loss: 0.0024 - accuracy: 0.9991 - val_loss: 3.3225 - val_accuracy: 0.7895\n",
            "Epoch 26/30\n",
            "625/625 - 2s - loss: 0.0026 - accuracy: 0.9991 - val_loss: 3.3741 - val_accuracy: 0.7904\n",
            "Epoch 27/30\n",
            "625/625 - 2s - loss: 0.0020 - accuracy: 0.9995 - val_loss: 3.5683 - val_accuracy: 0.7939\n",
            "Epoch 28/30\n",
            "625/625 - 2s - loss: 0.0028 - accuracy: 0.9991 - val_loss: 3.3990 - val_accuracy: 0.7889\n",
            "Epoch 29/30\n",
            "625/625 - 2s - loss: 0.0018 - accuracy: 0.9995 - val_loss: 3.4510 - val_accuracy: 0.7919\n",
            "Epoch 30/30\n",
            "625/625 - 2s - loss: 0.0030 - accuracy: 0.9992 - val_loss: 3.4233 - val_accuracy: 0.7904\n"
          ],
          "name": "stdout"
        }
      ]
    },
    {
      "cell_type": "code",
      "metadata": {
        "id": "2HYfBKXjkmU8",
        "colab": {
          "base_uri": "https://localhost:8080/",
          "height": 541
        },
        "outputId": "a2ddf1be-4530-4719-fb64-bb1aaf669122"
      },
      "source": [
        "import matplotlib.pyplot as plt\n",
        "\n",
        "\n",
        "def plot_graphs(history, string):\n",
        "  plt.plot(history.history[string])\n",
        "  plt.plot(history.history['val_'+string])\n",
        "  plt.xlabel(\"Epochs\")\n",
        "  plt.ylabel(string)\n",
        "  plt.legend([string, 'val_'+string])\n",
        "  plt.show()\n",
        "  \n",
        "plot_graphs(history, \"accuracy\")\n",
        "plot_graphs(history, \"loss\")"
      ],
      "execution_count": 29,
      "outputs": [
        {
          "output_type": "display_data",
          "data": {
            "image/png": "[encoded data removed]",
            "text/plain": [
              "<Figure size 432x288 with 1 Axes>"
            ]
          },
          "metadata": {
            "tags": [],
            "needs_background": "light"
          }
        },
        {
          "output_type": "display_data",
          "data": {
            "image/png": "[encoded data removed]",
            "text/plain": [
              "<Figure size 432x288 with 1 Axes>"
            ]
          },
          "metadata": {
            "tags": [],
            "needs_background": "light"
          }
        }
      ]
    },
    {
      "cell_type": "code",
      "metadata": {
        "id": "7SBdAZAenvzL",
        "colab": {
          "base_uri": "https://localhost:8080/"
        },
        "outputId": "46411211-8827-48d3-f2d4-b7528d81bda6"
      },
      "source": [
        "reverse_word_index = dict([(value, key) for (key, value) in word_index.items()])\n",
        "\n",
        "def decode_sentence(text):\n",
        "    return ' '.join([reverse_word_index.get(i, '?') for i in text])\n",
        "\n",
        "print(decode_sentence(training_padded[0]))\n",
        "print(training_sentences[2])\n",
        "print(labels[2])"
      ],
      "execution_count": 30,
      "outputs": [
        {
          "output_type": "stream",
          "text": [
            "former <OOV> store clerk sues over secret 'black <OOV> for minority shoppers ? ? ? ? ? ? ? ? ? ? ? ? ? ? ? ? ? ? ? ? ? ? ? ? ? ? ? ? ? ? ? ? ? ? ? ? ? ? ? ? ? ? ? ? ? ? ? ? ? ? ? ? ? ? ? ? ? ? ? ? ? ? ? ? ? ? ? ? ? ? ? ? ? ? ? ? ? ? ? ? ? ? ? ? ? ? ? ?\n",
            "mom starting to fear son's web series closest thing she will have to grandchild\n",
            "1\n"
          ],
          "name": "stdout"
        }
      ]
    },
    {
      "cell_type": "code",
      "metadata": {
        "id": "c9MqihtEkzQ9",
        "colab": {
          "base_uri": "https://localhost:8080/"
        },
        "outputId": "b9215457-a7ff-4288-ac92-c7e8fe084431"
      },
      "source": [
        "e = model.layers[0]\n",
        "weights = e.get_weights()[0]\n",
        "print(weights.shape) # shape: (vocab_size, embedding_dim)\n"
      ],
      "execution_count": 31,
      "outputs": [
        {
          "output_type": "stream",
          "text": [
            "(10000, 16)\n"
          ],
          "name": "stdout"
        }
      ]
    },
    {
      "cell_type": "code",
      "metadata": {
        "id": "LoBXVffknldU"
      },
      "source": [
        "import io\n",
        "\n",
        "out_v = io.open('vecs.tsv', 'w', encoding='utf-8')\n",
        "out_m = io.open('meta.tsv', 'w', encoding='utf-8')\n",
        "for word_num in range(1, vocab_size):\n",
        "  word = reverse_word_index[word_num]\n",
        "  embeddings = weights[word_num]\n",
        "  out_m.write(word + \"\\n\")\n",
        "  out_v.write('\\t'.join([str(x) for x in embeddings]) + \"\\n\")\n",
        "out_v.close()\n",
        "out_m.close()"
      ],
      "execution_count": 32,
      "outputs": []
    },
    {
      "cell_type": "code",
      "metadata": {
        "id": "U4eZ5HtVnnEE"
      },
      "source": [
        "try:\n",
        "  from google.colab import files\n",
        "except ImportError:\n",
        "  pass\n",
        "else:\n",
        "  files.download('vecs.tsv')\n",
        "  files.download('meta.tsv')"
      ],
      "execution_count": null,
      "outputs": []
    },
    {
      "cell_type": "code",
      "metadata": {
        "id": "cG8-ArY-qDcz",
        "colab": {
          "base_uri": "https://localhost:8080/"
        },
        "outputId": "e458e37e-b281-4f01-e1d3-b0b3a3f39163"
      },
      "source": [
        "sentence = [\"granny starting to fear spiders in the garden might be real\", \"game of thrones season finale showing this sunday night\"]\n",
        "sequences = tokenizer.texts_to_sequences(sentence)\n",
        "padded = pad_sequences(sequences, maxlen=max_length, padding=padding_type, truncating=trunc_type)\n",
        "print(model.predict(padded))"
      ],
      "execution_count": 33,
      "outputs": [
        {
          "output_type": "stream",
          "text": [
            "WARNING:tensorflow:Model was constructed with shape (None, 100) for input KerasTensor(type_spec=TensorSpec(shape=(None, 100), dtype=tf.float32, name='embedding_input'), name='embedding_input', description=\"created by layer 'embedding_input'\"), but it was called on an input with incompatible shape (None, 250).\n",
            "[[9.964049e-01]\n",
            " [4.601567e-09]]\n"
          ],
          "name": "stdout"
        }
      ]
    }
  ]
}