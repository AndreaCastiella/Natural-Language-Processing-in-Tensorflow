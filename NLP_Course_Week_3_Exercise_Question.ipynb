{
  "nbformat": 4,
  "nbformat_minor": 0,
  "metadata": {
    "accelerator": "GPU",
    "colab": {
      "name": "NLP Course - Week 3 Exercise Question.ipynb",
      "provenance": [],
      "collapsed_sections": [],
      "toc_visible": true,
      "include_colab_link": true
    },
    "kernelspec": {
      "display_name": "Python 3",
      "name": "python3"
    }
  },
  "cells": [
    {
      "cell_type": "markdown",
      "metadata": {
        "id": "view-in-github",
        "colab_type": "text"
      },
      "source": [
        "<a href=\"https://colab.research.google.com/github/AndreaCastiella/Natural-Language-Processing-in-Tensorflow/blob/main/NLP_Course_Week_3_Exercise_Question.ipynb\" target=\"_parent\"><img src=\"https://colab.research.google.com/assets/colab-badge.svg\" alt=\"Open In Colab\"/></a>"
      ]
    },
    {
      "cell_type": "code",
      "metadata": {
        "id": "hmA6EzkQJ5jt"
      },
      "source": [
        "import json\n",
        "import tensorflow as tf\n",
        "import csv\n",
        "import random\n",
        "import numpy as np\n",
        "\n",
        "from tensorflow.keras.preprocessing.text import Tokenizer\n",
        "from tensorflow.keras.preprocessing.sequence import pad_sequences\n",
        "from tensorflow.keras.utils import to_categorical\n",
        "from tensorflow.keras import regularizers\n",
        "\n",
        "\n",
        "embedding_dim = 100\n",
        "max_length = 16\n",
        "trunc_type='post'\n",
        "padding_type='post'\n",
        "oov_tok = \"<OOV>\"\n",
        "training_size= 160000 #Your dataset size here. Experiment using smaller values (i.e. 16000), but don't forget to train on at least 160000 to see the best effects\n",
        "test_portion=.1\n",
        "\n",
        "corpus = []\n"
      ],
      "execution_count": 1,
      "outputs": []
    },
    {
      "cell_type": "code",
      "metadata": {
        "colab": {
          "base_uri": "https://localhost:8080/"
        },
        "id": "bM0l_dORKqE0",
        "outputId": "fecd3502-cca6-4bce-e584-2329999a285d"
      },
      "source": [
        "# Note that I cleaned the Stanford dataset to remove LATIN1 encoding to make it easier for Python CSV reader\n",
        "# You can do that yourself with:\n",
        "# iconv -f LATIN1 -t UTF8 training.1600000.processed.noemoticon.csv -o training_cleaned.csv\n",
        "# I then hosted it on my site to make it easier to use in this notebook\n",
        "\n",
        "!wget --no-check-certificate \\\n",
        "    https://storage.googleapis.com/laurencemoroney-blog.appspot.com/training_cleaned.csv \\\n",
        "    -O /tmp/training_cleaned.csv\n",
        "\n",
        "num_sentences = 0\n",
        "\n",
        "with open(\"/tmp/training_cleaned.csv\") as csvfile:\n",
        "    reader = csv.reader(csvfile, delimiter=',')\n",
        "    for row in reader:\n",
        "      # Your Code here. Create list items where the first item is the text, found in row[5], and the second is the label. Note that the label is a '0' or a '4' in the text. When it's the former, make\n",
        "      # your label to be 0, otherwise 1. Keep a count of the number of sentences in num_sentences\n",
        "        list_item=[]\n",
        "        list_item.append(row[5])\n",
        "        label=row[0]\n",
        "        if label=='0':\n",
        "            list_item.append(0)\n",
        "        else:\n",
        "            list_item.append(1)\n",
        "        # YOUR CODE HERE\n",
        "        num_sentences = num_sentences + 1\n",
        "        corpus.append(list_item)\n"
      ],
      "execution_count": 2,
      "outputs": [
        {
          "output_type": "stream",
          "text": [
            "--2021-04-30 10:19:41--  https://storage.googleapis.com/laurencemoroney-blog.appspot.com/training_cleaned.csv\n",
            "Resolving storage.googleapis.com (storage.googleapis.com)... 142.250.73.240, 172.217.7.240, 172.217.8.16, ...\n",
            "Connecting to storage.googleapis.com (storage.googleapis.com)|142.250.73.240|:443... connected.\n",
            "HTTP request sent, awaiting response... 200 OK\n",
            "Length: 238942690 (228M) [application/octet-stream]\n",
            "Saving to: ‘/tmp/training_cleaned.csv’\n",
            "\n",
            "/tmp/training_clean 100%[===================>] 227.87M   179MB/s    in 1.3s    \n",
            "\n",
            "2021-04-30 10:19:43 (179 MB/s) - ‘/tmp/training_cleaned.csv’ saved [238942690/238942690]\n",
            "\n"
          ],
          "name": "stdout"
        }
      ]
    },
    {
      "cell_type": "code",
      "metadata": {
        "colab": {
          "base_uri": "https://localhost:8080/"
        },
        "id": "3kxblBUjEUX-",
        "outputId": "32240b92-7451-4783-ff4b-2ef1f2a2ee02"
      },
      "source": [
        "print(num_sentences)\n",
        "print(len(corpus))\n",
        "print(corpus[1])\n",
        "\n",
        "# Expected Output:\n",
        "# 1600000\n",
        "# 1600000\n",
        "# [\"is upset that he can't update his Facebook by texting it... and might cry as a result  School today also. Blah!\", 0]"
      ],
      "execution_count": 3,
      "outputs": [
        {
          "output_type": "stream",
          "text": [
            "1600000\n",
            "1600000\n",
            "[\"is upset that he can't update his Facebook by texting it... and might cry as a result  School today also. Blah!\", 0]\n"
          ],
          "name": "stdout"
        }
      ]
    },
    {
      "cell_type": "code",
      "metadata": {
        "id": "ohOGz24lsNAD"
      },
      "source": [
        "sentences=[]\n",
        "labels=[]\n",
        "random.shuffle(corpus)\n",
        "for x in range(training_size):\n",
        "    sentences.append(corpus[x][0]) # YOUR CODE HERE\n",
        "    labels.append(corpus[x][1]) # YOUR CODE HERE\n",
        "\n",
        "\n",
        "tokenizer = Tokenizer()\n",
        "tokenizer.fit_on_texts(sentences) # YOUR CODE HERE\n",
        "\n",
        "word_index = tokenizer.word_index\n",
        "vocab_size=len(word_index) # YOUR CODE HERE\n",
        " \n",
        "sequences = tokenizer.texts_to_sequences(sentences) # YOUR CODE HERE\n",
        "padded = pad_sequences(sequences, maxlen=max_length, padding=padding_type, truncating=trunc_type) # YOUR CODE HERE\n",
        "\n",
        "split = int(test_portion * training_size)\n",
        "\n",
        "test_sequences = padded[0:split] # YOUR CODE HERE\n",
        "training_sequences = padded[split:training_size] # YOUR CODE HERE\n",
        "test_labels = labels[0:split] # YOUR CODE HERE\n",
        "training_labels = labels[split:training_size] # YOUR CODE HERE"
      ],
      "execution_count": 4,
      "outputs": []
    },
    {
      "cell_type": "code",
      "metadata": {
        "colab": {
          "base_uri": "https://localhost:8080/"
        },
        "id": "gIrtRem1En3N",
        "outputId": "fe2b3377-0cf3-4b79-d6f8-ba8a5b2dd380"
      },
      "source": [
        "print(vocab_size)\n",
        "print(word_index['i'])\n",
        "# Expected Output\n",
        "# 138858\n",
        "# 1"
      ],
      "execution_count": 5,
      "outputs": [
        {
          "output_type": "stream",
          "text": [
            "139029\n",
            "1\n"
          ],
          "name": "stdout"
        }
      ]
    },
    {
      "cell_type": "code",
      "metadata": {
        "colab": {
          "base_uri": "https://localhost:8080/"
        },
        "id": "C1zdgJkusRh0",
        "outputId": "8128946e-49dc-4eb1-d736-dc6121474f27"
      },
      "source": [
        "# Note this is the 100 dimension version of GloVe from Stanford\n",
        "# I unzipped and hosted it on my site to make this notebook easier\n",
        "!wget --no-check-certificate \\\n",
        "    https://storage.googleapis.com/laurencemoroney-blog.appspot.com/glove.6B.100d.txt \\\n",
        "    -O /tmp/glove.6B.100d.txt\n",
        "embeddings_index = {};\n",
        "with open('/tmp/glove.6B.100d.txt') as f:\n",
        "    for line in f:\n",
        "        values = line.split();\n",
        "        word = values[0];\n",
        "        coefs = np.asarray(values[1:], dtype='float32');\n",
        "        embeddings_index[word] = coefs;\n",
        "\n",
        "embeddings_matrix = np.zeros((vocab_size+1, embedding_dim));\n",
        "for word, i in word_index.items():\n",
        "    embedding_vector = embeddings_index.get(word);\n",
        "    if embedding_vector is not None:\n",
        "        embeddings_matrix[i] = embedding_vector;"
      ],
      "execution_count": 6,
      "outputs": [
        {
          "output_type": "stream",
          "text": [
            "--2021-04-30 10:19:56--  https://storage.googleapis.com/laurencemoroney-blog.appspot.com/glove.6B.100d.txt\n",
            "Resolving storage.googleapis.com (storage.googleapis.com)... 172.217.8.16, 172.253.62.128, 172.217.13.80, ...\n",
            "Connecting to storage.googleapis.com (storage.googleapis.com)|172.217.8.16|:443... connected.\n",
            "HTTP request sent, awaiting response... 404 Not Found\n",
            "2021-04-30 10:19:56 ERROR 404: Not Found.\n",
            "\n"
          ],
          "name": "stdout"
        }
      ]
    },
    {
      "cell_type": "code",
      "metadata": {
        "colab": {
          "base_uri": "https://localhost:8080/"
        },
        "id": "71NLk_lpFLNt",
        "outputId": "3f621767-7af1-4a37-9cf3-cf1235931a75"
      },
      "source": [
        "print(len(embeddings_matrix))\n",
        "# Expected Output\n",
        "# 138859"
      ],
      "execution_count": 7,
      "outputs": [
        {
          "output_type": "stream",
          "text": [
            "139030\n"
          ],
          "name": "stdout"
        }
      ]
    },
    {
      "cell_type": "code",
      "metadata": {
        "id": "iKKvbuEBOGFz",
        "colab": {
          "base_uri": "https://localhost:8080/"
        },
        "outputId": "c863c7f8-fde5-4ef1-f70c-f66fb0f4c742"
      },
      "source": [
        "model = tf.keras.Sequential([\n",
        "    tf.keras.layers.Embedding(vocab_size+1, embedding_dim, input_length=max_length, weights=[embeddings_matrix], trainable=False),\n",
        "    tf.keras.layers.Bidirectional(tf.keras.layers.LSTM(64, return_sequences=True)),\n",
        "    tf.keras.layers.Bidirectional(tf.keras.layers.LSTM(32)),\n",
        "    tf.keras.layers.Dense(24, activation='relu'),\n",
        "    tf.keras.layers.Dense(1, activation='sigmoid')\n",
        "])\n",
        "# YOUR CODE HERE - experiment with combining different types, such as convolutions and LSTMs\n",
        "model.compile(loss='binary_crossentropy', optimizer='adam', metrics=['acc']) # YOUR CODE HERE\n",
        "model.summary()\n",
        "\n",
        "num_epochs = 50\n",
        "\n",
        "training_sequences = np.array(training_sequences)\n",
        "training_labels = np.array(training_labels)\n",
        "test_sequences = np.array(test_sequences)\n",
        "test_labels = np.array(test_labels)\n",
        "\n",
        "history = model.fit(training_sequences, training_labels, epochs=num_epochs, validation_data=(test_sequences, test_labels), verbose=2)\n",
        "\n",
        "print(\"Training Complete\")\n"
      ],
      "execution_count": 8,
      "outputs": [
        {
          "output_type": "stream",
          "text": [
            "Model: \"sequential\"\n",
            "_________________________________________________________________\n",
            "Layer (type)                 Output Shape              Param #   \n",
            "=================================================================\n",
            "embedding (Embedding)        (None, 16, 100)           13903000  \n",
            "_________________________________________________________________\n",
            "bidirectional (Bidirectional (None, 16, 128)           84480     \n",
            "_________________________________________________________________\n",
            "bidirectional_1 (Bidirection (None, 64)                41216     \n",
            "_________________________________________________________________\n",
            "dense (Dense)                (None, 24)                1560      \n",
            "_________________________________________________________________\n",
            "dense_1 (Dense)              (None, 1)                 25        \n",
            "=================================================================\n",
            "Total params: 14,030,281\n",
            "Trainable params: 127,281\n",
            "Non-trainable params: 13,903,000\n",
            "_________________________________________________________________\n",
            "Epoch 1/50\n",
            "4500/4500 - 41s - loss: 0.6931 - acc: 0.5004 - val_loss: 0.6931 - val_acc: 0.5026\n",
            "Epoch 2/50\n",
            "4500/4500 - 34s - loss: 0.6932 - acc: 0.5003 - val_loss: 0.6932 - val_acc: 0.4974\n",
            "Epoch 3/50\n",
            "4500/4500 - 34s - loss: 0.6932 - acc: 0.5000 - val_loss: 0.6931 - val_acc: 0.5026\n",
            "Epoch 4/50\n",
            "4500/4500 - 34s - loss: 0.6932 - acc: 0.5004 - val_loss: 0.6932 - val_acc: 0.4974\n",
            "Epoch 5/50\n",
            "4500/4500 - 34s - loss: 0.6932 - acc: 0.4998 - val_loss: 0.6931 - val_acc: 0.5026\n",
            "Epoch 6/50\n",
            "4500/4500 - 34s - loss: 0.6932 - acc: 0.5020 - val_loss: 0.6931 - val_acc: 0.4974\n",
            "Epoch 7/50\n",
            "4500/4500 - 34s - loss: 0.6932 - acc: 0.5006 - val_loss: 0.6932 - val_acc: 0.4974\n",
            "Epoch 8/50\n",
            "4500/4500 - 34s - loss: 0.6932 - acc: 0.5014 - val_loss: 0.6931 - val_acc: 0.5026\n",
            "Epoch 9/50\n",
            "4500/4500 - 34s - loss: 0.6932 - acc: 0.4994 - val_loss: 0.6933 - val_acc: 0.4974\n",
            "Epoch 10/50\n",
            "4500/4500 - 34s - loss: 0.6932 - acc: 0.5013 - val_loss: 0.6932 - val_acc: 0.4974\n",
            "Epoch 11/50\n",
            "4500/4500 - 34s - loss: 0.6932 - acc: 0.5021 - val_loss: 0.6933 - val_acc: 0.4974\n",
            "Epoch 12/50\n",
            "4500/4500 - 34s - loss: 0.6932 - acc: 0.4998 - val_loss: 0.6932 - val_acc: 0.4974\n",
            "Epoch 13/50\n",
            "4500/4500 - 34s - loss: 0.6932 - acc: 0.4995 - val_loss: 0.6931 - val_acc: 0.5026\n",
            "Epoch 14/50\n",
            "4500/4500 - 34s - loss: 0.6932 - acc: 0.5012 - val_loss: 0.6932 - val_acc: 0.4974\n",
            "Epoch 15/50\n",
            "4500/4500 - 34s - loss: 0.6932 - acc: 0.5013 - val_loss: 0.6932 - val_acc: 0.4974\n",
            "Epoch 16/50\n",
            "4500/4500 - 34s - loss: 0.6932 - acc: 0.5011 - val_loss: 0.6932 - val_acc: 0.4974\n",
            "Epoch 17/50\n",
            "4500/4500 - 34s - loss: 0.6932 - acc: 0.5012 - val_loss: 0.6931 - val_acc: 0.5026\n",
            "Epoch 18/50\n",
            "4500/4500 - 34s - loss: 0.6932 - acc: 0.4971 - val_loss: 0.6931 - val_acc: 0.5026\n",
            "Epoch 19/50\n",
            "4500/4500 - 34s - loss: 0.6932 - acc: 0.5012 - val_loss: 0.6931 - val_acc: 0.5026\n",
            "Epoch 20/50\n",
            "4500/4500 - 34s - loss: 0.6932 - acc: 0.4991 - val_loss: 0.6931 - val_acc: 0.5026\n",
            "Epoch 21/50\n",
            "4500/4500 - 34s - loss: 0.6932 - acc: 0.5019 - val_loss: 0.6932 - val_acc: 0.4974\n",
            "Epoch 22/50\n",
            "4500/4500 - 34s - loss: 0.6932 - acc: 0.5002 - val_loss: 0.6931 - val_acc: 0.5026\n",
            "Epoch 23/50\n",
            "4500/4500 - 34s - loss: 0.6932 - acc: 0.5004 - val_loss: 0.6932 - val_acc: 0.4974\n",
            "Epoch 24/50\n",
            "4500/4500 - 34s - loss: 0.6932 - acc: 0.5005 - val_loss: 0.6932 - val_acc: 0.4974\n",
            "Epoch 25/50\n",
            "4500/4500 - 34s - loss: 0.6932 - acc: 0.5008 - val_loss: 0.6932 - val_acc: 0.4974\n",
            "Epoch 26/50\n",
            "4500/4500 - 34s - loss: 0.6932 - acc: 0.4995 - val_loss: 0.6932 - val_acc: 0.4974\n",
            "Epoch 27/50\n",
            "4500/4500 - 34s - loss: 0.6932 - acc: 0.5007 - val_loss: 0.6932 - val_acc: 0.4974\n",
            "Epoch 28/50\n",
            "4500/4500 - 33s - loss: 0.6932 - acc: 0.4996 - val_loss: 0.6933 - val_acc: 0.4974\n",
            "Epoch 29/50\n",
            "4500/4500 - 34s - loss: 0.6932 - acc: 0.5009 - val_loss: 0.6932 - val_acc: 0.4974\n",
            "Epoch 30/50\n",
            "4500/4500 - 34s - loss: 0.6931 - acc: 0.5016 - val_loss: 0.6933 - val_acc: 0.4974\n",
            "Epoch 31/50\n",
            "4500/4500 - 33s - loss: 0.6932 - acc: 0.4996 - val_loss: 0.6933 - val_acc: 0.4974\n",
            "Epoch 32/50\n",
            "4500/4500 - 33s - loss: 0.6932 - acc: 0.5004 - val_loss: 0.6932 - val_acc: 0.4974\n",
            "Epoch 33/50\n",
            "4500/4500 - 33s - loss: 0.6932 - acc: 0.5013 - val_loss: 0.6933 - val_acc: 0.4974\n",
            "Epoch 34/50\n",
            "4500/4500 - 33s - loss: 0.6932 - acc: 0.5004 - val_loss: 0.6932 - val_acc: 0.4974\n",
            "Epoch 35/50\n",
            "4500/4500 - 33s - loss: 0.6931 - acc: 0.5006 - val_loss: 0.6936 - val_acc: 0.4974\n",
            "Epoch 36/50\n",
            "4500/4500 - 33s - loss: 0.6932 - acc: 0.5010 - val_loss: 0.6933 - val_acc: 0.4974\n",
            "Epoch 37/50\n",
            "4500/4500 - 33s - loss: 0.6932 - acc: 0.5023 - val_loss: 0.6932 - val_acc: 0.4974\n",
            "Epoch 38/50\n",
            "4500/4500 - 33s - loss: 0.6932 - acc: 0.5017 - val_loss: 0.6931 - val_acc: 0.5026\n",
            "Epoch 39/50\n",
            "4500/4500 - 33s - loss: 0.6931 - acc: 0.5022 - val_loss: 0.6931 - val_acc: 0.5026\n",
            "Epoch 40/50\n",
            "4500/4500 - 33s - loss: 0.6932 - acc: 0.5007 - val_loss: 0.6932 - val_acc: 0.4974\n",
            "Epoch 41/50\n",
            "4500/4500 - 33s - loss: 0.6932 - acc: 0.5015 - val_loss: 0.6932 - val_acc: 0.4974\n",
            "Epoch 42/50\n",
            "4500/4500 - 33s - loss: 0.6932 - acc: 0.4994 - val_loss: 0.6932 - val_acc: 0.4974\n",
            "Epoch 43/50\n",
            "4500/4500 - 33s - loss: 0.6932 - acc: 0.5016 - val_loss: 0.6932 - val_acc: 0.4974\n",
            "Epoch 44/50\n",
            "4500/4500 - 33s - loss: 0.6931 - acc: 0.5025 - val_loss: 0.6931 - val_acc: 0.5026\n",
            "Epoch 45/50\n",
            "4500/4500 - 33s - loss: 0.6932 - acc: 0.5023 - val_loss: 0.6932 - val_acc: 0.4974\n",
            "Epoch 46/50\n",
            "4500/4500 - 33s - loss: 0.6932 - acc: 0.5008 - val_loss: 0.6932 - val_acc: 0.4974\n",
            "Epoch 47/50\n",
            "4500/4500 - 33s - loss: 0.6932 - acc: 0.5012 - val_loss: 0.6932 - val_acc: 0.4974\n",
            "Epoch 48/50\n",
            "4500/4500 - 33s - loss: 0.6932 - acc: 0.4991 - val_loss: 0.6932 - val_acc: 0.4974\n",
            "Epoch 49/50\n",
            "4500/4500 - 33s - loss: 0.6932 - acc: 0.5005 - val_loss: 0.6931 - val_acc: 0.5026\n",
            "Epoch 50/50\n",
            "4500/4500 - 33s - loss: 0.6932 - acc: 0.5020 - val_loss: 0.6931 - val_acc: 0.5026\n",
            "Training Complete\n"
          ],
          "name": "stdout"
        }
      ]
    },
    {
      "cell_type": "code",
      "metadata": {
        "id": "qxju4ItJKO8F",
        "colab": {
          "base_uri": "https://localhost:8080/",
          "height": 609
        },
        "outputId": "747244e2-8fa4-456e-8f01-6cea9c180746"
      },
      "source": [
        "import matplotlib.image  as mpimg\n",
        "import matplotlib.pyplot as plt\n",
        "\n",
        "#-----------------------------------------------------------\n",
        "# Retrieve a list of list results on training and test data\n",
        "# sets for each training epoch\n",
        "#-----------------------------------------------------------\n",
        "acc=history.history['acc']\n",
        "val_acc=history.history['val_acc']\n",
        "loss=history.history['loss']\n",
        "val_loss=history.history['val_loss']\n",
        "\n",
        "epochs=range(len(acc)) # Get number of epochs\n",
        "\n",
        "#------------------------------------------------\n",
        "# Plot training and validation accuracy per epoch\n",
        "#------------------------------------------------\n",
        "plt.plot(epochs, acc, 'r')\n",
        "plt.plot(epochs, val_acc, 'b')\n",
        "plt.title('Training and validation accuracy')\n",
        "plt.xlabel(\"Epochs\")\n",
        "plt.ylabel(\"Accuracy\")\n",
        "plt.legend([\"Accuracy\", \"Validation Accuracy\"])\n",
        "\n",
        "plt.figure()\n",
        "\n",
        "#------------------------------------------------\n",
        "# Plot training and validation loss per epoch\n",
        "#------------------------------------------------\n",
        "plt.plot(epochs, loss, 'r')\n",
        "plt.plot(epochs, val_loss, 'b')\n",
        "plt.title('Training and validation loss')\n",
        "plt.xlabel(\"Epochs\")\n",
        "plt.ylabel(\"Loss\")\n",
        "plt.legend([\"Loss\", \"Validation Loss\"])\n",
        "\n",
        "plt.figure()\n",
        "\n",
        "\n",
        "# Expected Output\n",
        "# A chart where the validation loss does not increase sharply!"
      ],
      "execution_count": 9,
      "outputs": [
        {
          "output_type": "execute_result",
          "data": {
            "text/plain": [
              "<Figure size 432x288 with 0 Axes>"
            ]
          },
          "metadata": {
            "tags": []
          },
          "execution_count": 9
        },
        {
          "output_type": "display_data",
          "data": {
            "image/png": "[encoded data removed]",
            "text/plain": [
              "<Figure size 432x288 with 1 Axes>"
            ]
          },
          "metadata": {
            "tags": [],
            "needs_background": "light"
          }
        },
        {
          "output_type": "display_data",
          "data": {
            "image/png": "[encoded data removed]",
            "text/plain": [
              "<Figure size 432x288 with 1 Axes>"
            ]
          },
          "metadata": {
            "tags": [],
            "needs_background": "light"
          }
        },
        {
          "output_type": "display_data",
          "data": {
            "text/plain": [
              "<Figure size 432x288 with 0 Axes>"
            ]
          },
          "metadata": {
            "tags": []
          }
        }
      ]
    }
  ]
}