{
  "nbformat": 4,
  "nbformat_minor": 0,
  "metadata": {
    "colab": {
      "name": "Course 3 - Week 3 - Lesson 1d.ipynb",
      "provenance": [],
      "collapsed_sections": [],
      "authorship_tag": "ABX9TyOy7+V/LBnlYIHfN+ptMkl5",
      "include_colab_link": true
    },
    "kernelspec": {
      "name": "python3",
      "display_name": "Python 3"
    },
    "language_info": {
      "name": "python"
    }
  },
  "cells": [
    {
      "cell_type": "markdown",
      "metadata": {
        "id": "view-in-github",
        "colab_type": "text"
      },
      "source": [
        "<a href=\"https://colab.research.google.com/github/AndreaCastiella/Natural-Language-Processing-in-Tensorflow/blob/main/Course_3_Week_3_Lesson_1d.ipynb\" target=\"_parent\"><img src=\"https://colab.research.google.com/assets/colab-badge.svg\" alt=\"Open In Colab\"/></a>"
      ]
    },
    {
      "cell_type": "code",
      "metadata": {
        "colab": {
          "base_uri": "https://localhost:8080/"
        },
        "id": "icUZvTYttVQz",
        "outputId": "f4d1faf9-5d46-475e-f1e4-4c8fd913c2cd"
      },
      "source": [
        "import tensorflow as tf\n",
        "import tensorflow_datasets as tfds\n",
        "\n",
        "print(tf.__version__)"
      ],
      "execution_count": 1,
      "outputs": [
        {
          "output_type": "stream",
          "text": [
            "2.4.1\n"
          ],
          "name": "stdout"
        }
      ]
    },
    {
      "cell_type": "code",
      "metadata": {
        "id": "LkFg-2pTtkaC"
      },
      "source": [
        "imdb, info = tfds.load(\"imdb_reviews\", with_info=True, as_supervised=True)"
      ],
      "execution_count": 2,
      "outputs": []
    },
    {
      "cell_type": "code",
      "metadata": {
        "id": "LXiKPR9-twRI"
      },
      "source": [
        "import numpy as np\n",
        "\n",
        "train_data, test_data = imdb['train'], imdb['test']\n",
        "\n",
        "training_sentences = []\n",
        "training_labels = []\n",
        "\n",
        "testing_sentences = []\n",
        "testing_labels = []\n",
        "\n",
        "# str(s.tonumpy()) is needed in Python3 instead of just s.numpy()\n",
        "for s,l in train_data:\n",
        "  training_sentences.append(str(s.numpy()))\n",
        "  training_labels.append(l.numpy())\n",
        "  \n",
        "for s,l in test_data:\n",
        "  testing_sentences.append(str(s.numpy()))\n",
        "  testing_labels.append(l.numpy())\n",
        "  \n",
        "training_labels_final = np.array(training_labels)\n",
        "testing_labels_final = np.array(testing_labels)"
      ],
      "execution_count": 9,
      "outputs": []
    },
    {
      "cell_type": "code",
      "metadata": {
        "id": "JrQ-k9k1uqDD"
      },
      "source": [
        "vocab_size = 10000\n",
        "embedding_dim = 16\n",
        "max_length = 120\n",
        "trunc_type='post'\n",
        "oov_tok = \"<OOV>\"\n",
        "\n",
        "\n",
        "from tensorflow.keras.preprocessing.text import Tokenizer\n",
        "from tensorflow.keras.preprocessing.sequence import pad_sequences\n",
        "\n",
        "tokenizer = Tokenizer(num_words = vocab_size, oov_token=oov_tok)\n",
        "tokenizer.fit_on_texts(training_sentences)\n",
        "word_index = tokenizer.word_index\n",
        "sequences = tokenizer.texts_to_sequences(training_sentences)\n",
        "padded = pad_sequences(sequences,maxlen=max_length, truncating=trunc_type)\n",
        "\n",
        "testing_sequences = tokenizer.texts_to_sequences(testing_sentences)\n",
        "testing_padded = pad_sequences(testing_sequences,maxlen=max_length)"
      ],
      "execution_count": 10,
      "outputs": []
    },
    {
      "cell_type": "code",
      "metadata": {
        "colab": {
          "base_uri": "https://localhost:8080/"
        },
        "id": "FFXycxmOu067",
        "outputId": "a62b55a3-c0c1-4d35-a040-7d733f5ff7e9"
      },
      "source": [
        "reverse_word_index = dict([(value, key) for (key, value) in word_index.items()])\n",
        "\n",
        "def decode_review(text):\n",
        "    return ' '.join([reverse_word_index.get(i, '?') for i in text])\n",
        "\n",
        "print(decode_review(padded[1]))\n",
        "print(training_sentences[1])"
      ],
      "execution_count": 11,
      "outputs": [
        {
          "output_type": "stream",
          "text": [
            "? ? ? ? ? ? ? b'i have been known to fall asleep during films but this is usually due to a combination of things including really tired being warm and comfortable on the <OOV> and having just eaten a lot however on this occasion i fell asleep because the film was rubbish the plot development was constant constantly slow and boring things seemed to happen but with no explanation of what was causing them or why i admit i may have missed part of the film but i watched the majority of it and everything just seemed to happen of its own <OOV> without any real concern for anything else i cant recommend this film at all '\n",
            "b'I have been known to fall asleep during films, but this is usually due to a combination of things including, really tired, being warm and comfortable on the sette and having just eaten a lot. However on this occasion I fell asleep because the film was rubbish. The plot development was constant. Constantly slow and boring. Things seemed to happen, but with no explanation of what was causing them or why. I admit, I may have missed part of the film, but i watched the majority of it and everything just seemed to happen of its own accord without any real concern for anything else. I cant recommend this film at all.'\n"
          ],
          "name": "stdout"
        }
      ]
    },
    {
      "cell_type": "code",
      "metadata": {
        "colab": {
          "base_uri": "https://localhost:8080/"
        },
        "id": "p8h35TBwu9oE",
        "outputId": "6f0edacc-f6d9-4107-941c-2aea364832aa"
      },
      "source": [
        "model = tf.keras.Sequential([\n",
        "    tf.keras.layers.Embedding(vocab_size, embedding_dim, input_length=max_length),\n",
        "    tf.keras.layers.Bidirectional(tf.keras.layers.GRU(32)),\n",
        "    tf.keras.layers.Dense(6, activation='relu'),\n",
        "    tf.keras.layers.Dense(1, activation='sigmoid')\n",
        "])\n",
        "model.compile(loss='binary_crossentropy',optimizer='adam',metrics=['accuracy'])\n",
        "model.summary()"
      ],
      "execution_count": 12,
      "outputs": [
        {
          "output_type": "stream",
          "text": [
            "Model: \"sequential_1\"\n",
            "_________________________________________________________________\n",
            "Layer (type)                 Output Shape              Param #   \n",
            "=================================================================\n",
            "embedding_1 (Embedding)      (None, 120, 16)           160000    \n",
            "_________________________________________________________________\n",
            "bidirectional_1 (Bidirection (None, 64)                9600      \n",
            "_________________________________________________________________\n",
            "dense_2 (Dense)              (None, 6)                 390       \n",
            "_________________________________________________________________\n",
            "dense_3 (Dense)              (None, 1)                 7         \n",
            "=================================================================\n",
            "Total params: 169,997\n",
            "Trainable params: 169,997\n",
            "Non-trainable params: 0\n",
            "_________________________________________________________________\n"
          ],
          "name": "stdout"
        }
      ]
    },
    {
      "cell_type": "code",
      "metadata": {
        "colab": {
          "base_uri": "https://localhost:8080/"
        },
        "id": "QvOxU_gCvDM5",
        "outputId": "67319f8f-75ae-44f9-e544-ecd98d317613"
      },
      "source": [
        "num_epochs = 50\n",
        "history = model.fit(padded, training_labels_final, epochs=num_epochs, validation_data=(testing_padded, testing_labels_final))"
      ],
      "execution_count": 13,
      "outputs": [
        {
          "output_type": "stream",
          "text": [
            "Epoch 1/50\n",
            "782/782 [==============================] - 68s 82ms/step - loss: 0.6368 - accuracy: 0.5961 - val_loss: 0.3723 - val_accuracy: 0.8393\n",
            "Epoch 2/50\n",
            "782/782 [==============================] - 63s 81ms/step - loss: 0.3181 - accuracy: 0.8686 - val_loss: 0.3696 - val_accuracy: 0.8428\n",
            "Epoch 3/50\n",
            "782/782 [==============================] - 64s 81ms/step - loss: 0.2297 - accuracy: 0.9141 - val_loss: 0.3954 - val_accuracy: 0.8355\n",
            "Epoch 4/50\n",
            "782/782 [==============================] - 63s 81ms/step - loss: 0.1799 - accuracy: 0.9322 - val_loss: 0.4139 - val_accuracy: 0.8324\n",
            "Epoch 5/50\n",
            "782/782 [==============================] - 63s 81ms/step - loss: 0.1296 - accuracy: 0.9553 - val_loss: 0.4809 - val_accuracy: 0.8292\n",
            "Epoch 6/50\n",
            "782/782 [==============================] - 64s 82ms/step - loss: 0.0806 - accuracy: 0.9746 - val_loss: 0.4986 - val_accuracy: 0.8180\n",
            "Epoch 7/50\n",
            "782/782 [==============================] - 64s 82ms/step - loss: 0.0603 - accuracy: 0.9807 - val_loss: 0.6136 - val_accuracy: 0.8136\n",
            "Epoch 8/50\n",
            "782/782 [==============================] - 64s 81ms/step - loss: 0.0405 - accuracy: 0.9866 - val_loss: 0.7855 - val_accuracy: 0.8170\n",
            "Epoch 9/50\n",
            "782/782 [==============================] - 64s 81ms/step - loss: 0.0262 - accuracy: 0.9910 - val_loss: 0.8342 - val_accuracy: 0.8077\n",
            "Epoch 10/50\n",
            "782/782 [==============================] - 63s 81ms/step - loss: 0.0162 - accuracy: 0.9955 - val_loss: 0.9605 - val_accuracy: 0.8104\n",
            "Epoch 11/50\n",
            "782/782 [==============================] - 64s 82ms/step - loss: 0.0190 - accuracy: 0.9929 - val_loss: 0.9132 - val_accuracy: 0.8130\n",
            "Epoch 12/50\n",
            "782/782 [==============================] - 63s 81ms/step - loss: 0.0108 - accuracy: 0.9968 - val_loss: 1.0205 - val_accuracy: 0.8135\n",
            "Epoch 13/50\n",
            "782/782 [==============================] - 64s 82ms/step - loss: 0.0120 - accuracy: 0.9965 - val_loss: 1.1352 - val_accuracy: 0.8033\n",
            "Epoch 14/50\n",
            "782/782 [==============================] - 64s 81ms/step - loss: 0.0092 - accuracy: 0.9972 - val_loss: 1.1076 - val_accuracy: 0.8114\n",
            "Epoch 15/50\n",
            "782/782 [==============================] - 64s 81ms/step - loss: 0.0050 - accuracy: 0.9987 - val_loss: 1.2038 - val_accuracy: 0.8077\n",
            "Epoch 16/50\n",
            "782/782 [==============================] - 64s 82ms/step - loss: 0.0048 - accuracy: 0.9985 - val_loss: 1.2052 - val_accuracy: 0.8073\n",
            "Epoch 17/50\n",
            "782/782 [==============================] - 64s 82ms/step - loss: 0.0076 - accuracy: 0.9976 - val_loss: 1.1984 - val_accuracy: 0.8091\n",
            "Epoch 18/50\n",
            "782/782 [==============================] - 64s 82ms/step - loss: 0.0055 - accuracy: 0.9979 - val_loss: 1.2128 - val_accuracy: 0.8113\n",
            "Epoch 19/50\n",
            "782/782 [==============================] - 64s 82ms/step - loss: 0.0057 - accuracy: 0.9978 - val_loss: 1.3508 - val_accuracy: 0.8109\n",
            "Epoch 20/50\n",
            "782/782 [==============================] - 65s 83ms/step - loss: 0.0054 - accuracy: 0.9981 - val_loss: 1.2323 - val_accuracy: 0.8033\n",
            "Epoch 21/50\n",
            "782/782 [==============================] - 64s 82ms/step - loss: 0.0057 - accuracy: 0.9983 - val_loss: 1.3686 - val_accuracy: 0.8120\n",
            "Epoch 22/50\n",
            "782/782 [==============================] - 64s 82ms/step - loss: 0.0043 - accuracy: 0.9985 - val_loss: 1.3679 - val_accuracy: 0.8040\n",
            "Epoch 23/50\n",
            "782/782 [==============================] - 64s 82ms/step - loss: 0.0050 - accuracy: 0.9983 - val_loss: 1.4006 - val_accuracy: 0.8025\n",
            "Epoch 24/50\n",
            "782/782 [==============================] - 64s 82ms/step - loss: 0.0024 - accuracy: 0.9992 - val_loss: 1.4638 - val_accuracy: 0.8013\n",
            "Epoch 25/50\n",
            "782/782 [==============================] - 64s 82ms/step - loss: 0.0080 - accuracy: 0.9978 - val_loss: 1.4499 - val_accuracy: 0.8056\n",
            "Epoch 26/50\n",
            "782/782 [==============================] - 64s 81ms/step - loss: 0.0055 - accuracy: 0.9986 - val_loss: 1.4553 - val_accuracy: 0.8035\n",
            "Epoch 27/50\n",
            "782/782 [==============================] - 64s 82ms/step - loss: 0.0025 - accuracy: 0.9991 - val_loss: 1.4770 - val_accuracy: 0.8046\n",
            "Epoch 28/50\n",
            "782/782 [==============================] - 64s 82ms/step - loss: 0.0036 - accuracy: 0.9991 - val_loss: 1.5287 - val_accuracy: 0.7975\n",
            "Epoch 29/50\n",
            "782/782 [==============================] - 65s 83ms/step - loss: 0.0032 - accuracy: 0.9990 - val_loss: 1.4829 - val_accuracy: 0.8078\n",
            "Epoch 30/50\n",
            "782/782 [==============================] - 64s 82ms/step - loss: 0.0042 - accuracy: 0.9987 - val_loss: 1.4023 - val_accuracy: 0.8052\n",
            "Epoch 31/50\n",
            "782/782 [==============================] - 64s 82ms/step - loss: 0.0028 - accuracy: 0.9993 - val_loss: 1.5041 - val_accuracy: 0.8058\n",
            "Epoch 32/50\n",
            "782/782 [==============================] - 64s 82ms/step - loss: 7.1294e-04 - accuracy: 0.9997 - val_loss: 1.6050 - val_accuracy: 0.8036\n",
            "Epoch 33/50\n",
            "782/782 [==============================] - 64s 82ms/step - loss: 4.7500e-04 - accuracy: 0.9997 - val_loss: 1.8681 - val_accuracy: 0.7973\n",
            "Epoch 34/50\n",
            "782/782 [==============================] - 64s 82ms/step - loss: 0.0078 - accuracy: 0.9970 - val_loss: 1.5100 - val_accuracy: 0.8038\n",
            "Epoch 35/50\n",
            "782/782 [==============================] - 64s 82ms/step - loss: 0.0051 - accuracy: 0.9979 - val_loss: 1.5148 - val_accuracy: 0.8058\n",
            "Epoch 36/50\n",
            "782/782 [==============================] - 64s 82ms/step - loss: 0.0011 - accuracy: 0.9998 - val_loss: 1.5951 - val_accuracy: 0.8047\n",
            "Epoch 37/50\n",
            "782/782 [==============================] - 64s 82ms/step - loss: 4.8689e-05 - accuracy: 1.0000 - val_loss: 1.6821 - val_accuracy: 0.8059\n",
            "Epoch 38/50\n",
            "782/782 [==============================] - 64s 82ms/step - loss: 2.2787e-05 - accuracy: 1.0000 - val_loss: 1.7132 - val_accuracy: 0.8054\n",
            "Epoch 39/50\n",
            "782/782 [==============================] - 64s 82ms/step - loss: 1.5567e-05 - accuracy: 1.0000 - val_loss: 1.7563 - val_accuracy: 0.8056\n",
            "Epoch 40/50\n",
            "782/782 [==============================] - 65s 83ms/step - loss: 1.0288e-05 - accuracy: 1.0000 - val_loss: 1.8023 - val_accuracy: 0.8058\n",
            "Epoch 41/50\n",
            "782/782 [==============================] - 65s 83ms/step - loss: 7.5694e-06 - accuracy: 1.0000 - val_loss: 1.8509 - val_accuracy: 0.8060\n",
            "Epoch 42/50\n",
            "782/782 [==============================] - 64s 82ms/step - loss: 5.3706e-06 - accuracy: 1.0000 - val_loss: 1.9048 - val_accuracy: 0.8056\n",
            "Epoch 43/50\n",
            "782/782 [==============================] - 64s 82ms/step - loss: 3.8172e-06 - accuracy: 1.0000 - val_loss: 1.9586 - val_accuracy: 0.8063\n",
            "Epoch 44/50\n",
            "782/782 [==============================] - 65s 83ms/step - loss: 2.7046e-06 - accuracy: 1.0000 - val_loss: 2.0150 - val_accuracy: 0.8063\n",
            "Epoch 45/50\n",
            "782/782 [==============================] - 65s 83ms/step - loss: 1.7637e-06 - accuracy: 1.0000 - val_loss: 2.0768 - val_accuracy: 0.8059\n",
            "Epoch 46/50\n",
            "782/782 [==============================] - 64s 82ms/step - loss: 1.1908e-06 - accuracy: 1.0000 - val_loss: 2.1376 - val_accuracy: 0.8059\n",
            "Epoch 47/50\n",
            "782/782 [==============================] - 64s 82ms/step - loss: 8.4535e-07 - accuracy: 1.0000 - val_loss: 2.1992 - val_accuracy: 0.8057\n",
            "Epoch 48/50\n",
            "782/782 [==============================] - 64s 82ms/step - loss: 5.4352e-07 - accuracy: 1.0000 - val_loss: 2.2615 - val_accuracy: 0.8053\n",
            "Epoch 49/50\n",
            "782/782 [==============================] - 64s 82ms/step - loss: 3.6889e-07 - accuracy: 1.0000 - val_loss: 2.3272 - val_accuracy: 0.8054\n",
            "Epoch 50/50\n",
            "782/782 [==============================] - 64s 82ms/step - loss: 2.3864e-07 - accuracy: 1.0000 - val_loss: 2.3880 - val_accuracy: 0.8049\n"
          ],
          "name": "stdout"
        }
      ]
    },
    {
      "cell_type": "code",
      "metadata": {
        "colab": {
          "base_uri": "https://localhost:8080/",
          "height": 545
        },
        "id": "MBYthGza8nfO",
        "outputId": "cf771ef2-5170-403c-fd22-3595248936bc"
      },
      "source": [
        "import matplotlib.pyplot as plt\n",
        "\n",
        "\n",
        "def plot_graphs(history, string):\n",
        "  plt.plot(history.history[string])\n",
        "  plt.plot(history.history['val_'+string])\n",
        "  plt.xlabel(\"Epochs\")\n",
        "  plt.ylabel(string)\n",
        "  plt.legend([string, 'val_'+string])\n",
        "  plt.show()\n",
        "\n",
        "plot_graphs(history, 'accuracy')\n",
        "plot_graphs(history, 'loss')"
      ],
      "execution_count": 14,
      "outputs": [
        {
          "output_type": "display_data",
          "data": {
            "image/png": "[encoded data removed]",
            "text/plain": [
              "<Figure size 432x288 with 1 Axes>"
            ]
          },
          "metadata": {
            "tags": [],
            "needs_background": "light"
          }
        },
        {
          "output_type": "display_data",
          "data": {
            "image/png": "[encoded data removed]",
            "text/plain": [
              "<Figure size 432x288 with 1 Axes>"
            ]
          },
          "metadata": {
            "tags": [],
            "needs_background": "light"
          }
        }
      ]
    },
    {
      "cell_type": "code",
      "metadata": {
        "colab": {
          "base_uri": "https://localhost:8080/"
        },
        "id": "sfid_ZUl8vgB",
        "outputId": "1f526921-2b00-49be-d4b2-44dc0c712900"
      },
      "source": [
        "# Model Definition with LSTM\n",
        "model = tf.keras.Sequential([\n",
        "    tf.keras.layers.Embedding(vocab_size, embedding_dim, input_length=max_length),\n",
        "    tf.keras.layers.Bidirectional(tf.keras.layers.LSTM(32)),\n",
        "    tf.keras.layers.Dense(6, activation='relu'),\n",
        "    tf.keras.layers.Dense(1, activation='sigmoid')\n",
        "])\n",
        "model.compile(loss='binary_crossentropy',optimizer='adam',metrics=['accuracy'])\n",
        "model.summary()"
      ],
      "execution_count": 15,
      "outputs": [
        {
          "output_type": "stream",
          "text": [
            "Model: \"sequential_2\"\n",
            "_________________________________________________________________\n",
            "Layer (type)                 Output Shape              Param #   \n",
            "=================================================================\n",
            "embedding_2 (Embedding)      (None, 120, 16)           160000    \n",
            "_________________________________________________________________\n",
            "bidirectional_2 (Bidirection (None, 64)                12544     \n",
            "_________________________________________________________________\n",
            "dense_4 (Dense)              (None, 6)                 390       \n",
            "_________________________________________________________________\n",
            "dense_5 (Dense)              (None, 1)                 7         \n",
            "=================================================================\n",
            "Total params: 172,941\n",
            "Trainable params: 172,941\n",
            "Non-trainable params: 0\n",
            "_________________________________________________________________\n"
          ],
          "name": "stdout"
        }
      ]
    },
    {
      "cell_type": "code",
      "metadata": {
        "colab": {
          "base_uri": "https://localhost:8080/"
        },
        "id": "25cNTdEU8yt1",
        "outputId": "d39d0916-db23-4cc0-d322-4792f471ea5f"
      },
      "source": [
        "# Model Definition with Conv1D\n",
        "model = tf.keras.Sequential([\n",
        "    tf.keras.layers.Embedding(vocab_size, embedding_dim, input_length=max_length),\n",
        "    tf.keras.layers.Conv1D(128, 5, activation='relu'),\n",
        "    tf.keras.layers.GlobalAveragePooling1D(),\n",
        "    tf.keras.layers.Dense(6, activation='relu'),\n",
        "    tf.keras.layers.Dense(1, activation='sigmoid')\n",
        "])\n",
        "model.compile(loss='binary_crossentropy',optimizer='adam',metrics=['accuracy'])\n",
        "model.summary()"
      ],
      "execution_count": 16,
      "outputs": [
        {
          "output_type": "stream",
          "text": [
            "Model: \"sequential_3\"\n",
            "_________________________________________________________________\n",
            "Layer (type)                 Output Shape              Param #   \n",
            "=================================================================\n",
            "embedding_3 (Embedding)      (None, 120, 16)           160000    \n",
            "_________________________________________________________________\n",
            "conv1d (Conv1D)              (None, 116, 128)          10368     \n",
            "_________________________________________________________________\n",
            "global_average_pooling1d (Gl (None, 128)               0         \n",
            "_________________________________________________________________\n",
            "dense_6 (Dense)              (None, 6)                 774       \n",
            "_________________________________________________________________\n",
            "dense_7 (Dense)              (None, 1)                 7         \n",
            "=================================================================\n",
            "Total params: 171,149\n",
            "Trainable params: 171,149\n",
            "Non-trainable params: 0\n",
            "_________________________________________________________________\n"
          ],
          "name": "stdout"
        }
      ]
    }
  ]
}